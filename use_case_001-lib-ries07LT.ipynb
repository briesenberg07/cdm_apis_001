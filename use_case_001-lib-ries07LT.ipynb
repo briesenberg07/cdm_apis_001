{
 "cells": [
  {
   "cell_type": "markdown",
   "metadata": {},
   "source": [
    "# USE CASE 001\n",
    "\n",
    "- Get distinct values for the following fields in all* collections where they exist:\n",
    "    - Repository\n",
    "    - Repository Collection\n",
    "    - Repository Collection Guide\n",
    "- Write these values to a file for review\n"
   ]
  },
  {
   "cell_type": "markdown",
   "metadata": {},
   "source": [
    "## Step 1: Get a list of collections with some needed info about each\n",
    "Use [dmGetCollectionList](https://help.oclc.org/Metadata_Services/CONTENTdm/Advanced_website_customization/API_Reference/CONTENTdm_API/CONTENTdm_Server_API_Functions_-_dmwebservices?sl=en#dmGetCollectionList)  \n",
    "\n",
    "**Signature**\n",
    "```\n",
    "http://yourCONTENTdmURL/digital/bl/dmwebservices/index.php?q=dmGetCollectionList/format\n",
    "```\n",
    "- Replace yourCONTENTdmURL with your institution's CONTENTdm Website URL.\n",
    "- format is either xml or json\n",
    "\n",
    "**Example**\n",
    "```\n",
    "http://yourCONTENTdmURL/digital/bl/dmwebservices/index.php?q=dmGetCollectionList/xml\n",
    "\n",
    "```"
   ]
  },
  {
   "cell_type": "code",
   "execution_count": null,
   "metadata": {},
   "outputs": [],
   "source": [
    "# I'll need these libraries\n",
    "import requests\n",
    "import json"
   ]
  },
  {
   "cell_type": "code",
   "execution_count": null,
   "metadata": {},
   "outputs": [],
   "source": [
    "# make the API call\n",
    "response = requests.get(\"http://digitalcollections.lib.washington.edu/digital/bl/dmwebservices/index.php?q=dmGetCollectionList/json\")"
   ]
  },
  {
   "cell_type": "markdown",
   "metadata": {},
   "source": [
    "I'm going to write this to a file so I can pick back up at this point if I want"
   ]
  },
  {
   "cell_type": "code",
   "execution_count": null,
   "metadata": {},
   "outputs": [],
   "source": [
    "# write response to a file\n",
    "with open(\"uwlibs/allcolls.json\", \"w\") as jsonFile01:\n",
    "    jsonFile01.write(response.text)"
   ]
  },
  {
   "cell_type": "markdown",
   "metadata": {},
   "source": [
    "I'll need the info I retrieved in a var for [step 2](#Step-2:-Get-field-info-per-collection) below, I also want to take a look at it"
   ]
  },
  {
   "cell_type": "code",
   "execution_count": null,
   "metadata": {},
   "outputs": [],
   "source": [
    "with open('uwlibs/allcolls.json', 'r') as file:\n",
    "        data = file.read()\n",
    "        collectionsjson = json.loads(data)"
   ]
  },
  {
   "cell_type": "markdown",
   "metadata": {},
   "source": [
    "### ☝️ SIDEBAR: json.loads() and json.dumps()\n",
    "These methods are doing some important work in loading json data from a file (just above) and writing json data to a file (below)\n",
    "\n",
    "**REFERENCE**\n",
    "- json: [JSON encoder and decoder](https://docs.python.org/3.8/library/json.html#module-json)\n",
    "- json module > [json.dumps](https://docs.python.org/3.8/library/json.html#json.dumps)\n",
    "- json module > [json.loads](https://docs.python.org/3.8/library/json.html#json.loads)"
   ]
  },
  {
   "cell_type": "code",
   "execution_count": null,
   "metadata": {},
   "outputs": [],
   "source": [
    "# confirm that this is a list of dictionaries using the built-in function type()\n",
    "print(type(collectionsjson))\n",
    "print(len(collectionsjson))\n",
    "print(type(collectionsjson[0]))\n",
    "\n",
    "for coll in collectionsjson:\n",
    "    print(f\"Name: {coll['name']} / Alias: {coll['secondary_alias']}\")"
   ]
  },
  {
   "cell_type": "markdown",
   "metadata": {},
   "source": [
    "## Step 2: Get field info per collection\n",
    "Use [dmGetCollectionFieldInfo](https://help.oclc.org/Metadata_Services/CONTENTdm/Advanced_website_customization/API_Reference/CONTENTdm_API/CONTENTdm_Server_API_Functions_-_dmwebservices?sl=en#dmGetCollectionFieldInfo) \n",
    "\n",
    "**Signature**\n",
    "```\n",
    "http://yourCONTENTdmURL.com/digital/bl/dmwebservices/index.php?q=dmGetCollectionFieldInfo/alias/format\n",
    "```\n",
    "- Replace yourCONTENTdmURL with your institution's CONTENTdm Website URL\n",
    "- alias is a collection alias\n",
    "- format is either xml or json\n",
    "- In JSON, Unicode characters in the field's name are converted to decimal Unicode entities. E.g., 題名 is converted to \\u984c\\u540d\n",
    "\n",
    "**Example**\n",
    "```\n",
    "http://yourCONTENTdmURL.com/digital/bl/dmwebservices/index.php?q=dmGetCollectionFieldInfo/ctimes/xml\n",
    "```\n",
    "\n",
    "\\*Note that the `.com` should *not* be included following your institution's CONTENTdm website URL\n",
    "\n",
    "**For each collection**\n",
    "- Does 'Repository' field exist? If yes, what is nickname?\n",
    "- Does 'Repository Collection' field exist? If yes, what is nickname?\n",
    "- Does 'Repository Collection Guide' field exist? If yes, what is nickname?"
   ]
  },
  {
   "cell_type": "code",
   "execution_count": null,
   "metadata": {},
   "outputs": [],
   "source": [
    "# I'll need the requests and json libs again\n",
    "\n",
    "allcolls_allfields = []\n",
    "\n",
    "# same for the API call for each collection\n",
    "uwcdmurl = \"digitalcollections.lib.washington.edu\"\n",
    "fmt = \"json\"\n",
    "\n",
    "for coll in collectionsjson:\n",
    "    dct = {}\n",
    "    url = f\"http://{uwcdmurl}/digital/bl/dmwebservices/index.php?q=dmGetCollectionFieldInfo/{coll['secondary_alias']}/{fmt}\"\n",
    "    response = requests.get(url)\n",
    "    fielddata = json.loads(response.text)\n",
    "    dct = {'alias': coll['secondary_alias'], 'field_data': fielddata}\n",
    "    allcolls_allfields.append(dct)"
   ]
  },
  {
   "cell_type": "markdown",
   "metadata": {},
   "source": [
    "### SIDEBAR - 💥 `JSONDecodeError`\n",
    "***I don't understand it***  \n",
    "...but it is stopping me from iterating through all collections to retrieve field information...  \n",
    "...why is the error occurring where it is occurring, I wonder..."
   ]
  },
  {
   "cell_type": "code",
   "execution_count": null,
   "metadata": {},
   "outputs": [],
   "source": [
    "print(len(collectionsjson)) # 163 collections\n",
    "print(len(allcolls_allfields)) # but I was only able to get the fields for 23 of these"
   ]
  },
  {
   "cell_type": "markdown",
   "metadata": {},
   "source": [
    "As above, I'll write the collection-field info to a file so I can pick back up here later"
   ]
  },
  {
   "cell_type": "code",
   "execution_count": null,
   "metadata": {},
   "outputs": [],
   "source": [
    "# let's write all_coll_fields to a file\n",
    "acafstring = json.dumps(allcolls_allfields)\n",
    "with open(\"uwlibs/allcolls_allfields.json\", \"w\") as jsonFile:\n",
    "    jsonFile.write(acafstring)"
   ]
  },
  {
   "cell_type": "markdown",
   "metadata": {},
   "source": [
    "## Step 4: Get field values for fields of interest\n",
    "Use [dmGetCollectionWords](https://help.oclc.org/Metadata_Services/CONTENTdm/Advanced_website_customization/API_Reference/CONTENTdm_API/CONTENTdm_Server_API_Functions_-_dmwebservices?sl=en#dmGetCollectionWords)  \n",
    "\n",
    "**Signature**\n",
    "```\n",
    "http://yourCONTENTdmURL.com/digital/bl/dmwebservices/index.php?q=dmGetCollectionWords/alias/fields/format\n",
    "\n",
    "```\n",
    "\n",
    "- Replace `yourCONTENTdmURL.com` with your institution's CONTENTdm Website URL.\n",
    "- `alias` is a collection alias\n",
    "- `fields` is a !-delimited list of field nicknames listing the fields for which the words should be returned. Can also be \"all\" for all fields.\n",
    "- `format` is either xml or json\n",
    "\n",
    "...still haven't gotten here yet--actions could include:\n",
    "\n",
    "- Get values from each collection for each field of interest\n",
    "- Add values to combined list\n",
    "- Process combined list to retain only a list of distinct values\n",
    "- Do other stuff, compare values across collections, ..."
   ]
  },
  {
   "cell_type": "code",
   "execution_count": 1,
   "metadata": {},
   "outputs": [],
   "source": [
    "# picking back up, loading json from a file\n",
    "import json\n",
    "with open(\"uwlibs/allcolls_allfields.json\", \"r\") as file:\n",
    "    data = file.read()\n",
    "    allfieldsjson = json.loads(data)"
   ]
  },
  {
   "cell_type": "code",
   "execution_count": null,
   "metadata": {},
   "outputs": [],
   "source": [
    "# testing 02\n",
    "for coll in allfieldsjson:\n",
    "    print(f\"\\n{coll['alias']}\\n==============\\n\")\n",
    "    for field in coll['field_data']:\n",
    "        print(field['name'])"
   ]
  },
  {
   "cell_type": "markdown",
   "metadata": {},
   "source": [
    "- fields_of_interest = []\n",
    "- allcolls_somefields = allcolls_allfields\n",
    "- for each coll in allcolls_somefields:\n",
    "    - go through the 'field_data' list\n",
    "    - for each dct in the 'field_data' list:\n",
    "        - if the 'name' of the field is in fields_of_interest, pass\n",
    "        - if the 'name' of the field is not in fields_of_interest, [remove()](https://www.programiz.com/python-programming/methods/list/remove)"
   ]
  },
  {
   "cell_type": "code",
   "execution_count": 2,
   "metadata": {},
   "outputs": [
    {
     "name": "stdout",
     "output_type": "stream",
     "text": [
      "we have eggs\n"
     ]
    }
   ],
   "source": [
    "# testing 03\n",
    "list = ['egg', 'toast', 'coffee']\n",
    "if 'egg' in list:\n",
    "    print(\"we have eggs\")\n",
    "else:\n",
    "    print(\"no eggs\")"
   ]
  },
  {
   "cell_type": "code",
   "execution_count": null,
   "metadata": {},
   "outputs": [],
   "source": []
  }
 ],
 "metadata": {
  "kernelspec": {
   "display_name": "Python 3",
   "language": "python",
   "name": "python3"
  },
  "language_info": {
   "codemirror_mode": {
    "name": "ipython",
    "version": 3
   },
   "file_extension": ".py",
   "mimetype": "text/x-python",
   "name": "python",
   "nbconvert_exporter": "python",
   "pygments_lexer": "ipython3",
   "version": "3.8.5"
  }
 },
 "nbformat": 4,
 "nbformat_minor": 5
}
